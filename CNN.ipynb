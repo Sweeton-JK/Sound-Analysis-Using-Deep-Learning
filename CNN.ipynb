{
 "cells": [
  {
   "cell_type": "code",
   "execution_count": 2,
   "metadata": {},
   "outputs": [],
   "source": [
    "!pip install tensorflow\n",
    "!pip install keras\n",
    "\n",
    "from tensorflow.keras.preprocessing.image import ImageDataGenerator\n",
    "from tensorflow.keras.preprocessing.image import Image\n",
    "from tensorflow.keras.optimizers import RMSprop\n",
    "import matplotlib.pyplot as plt \n",
    "import tensorflow as tf \n",
    "import numpy as np \n",
    "import cv2 \n",
    "import os "
   ]
  },
  {
   "cell_type": "code",
   "execution_count": null,
   "metadata": {},
   "outputs": [
    {
     "ename": "NameError",
     "evalue": "name 'image' is not defined",
     "output_type": "error",
     "traceback": [
      "\u001b[1;31m---------------------------------------------------------------------------\u001b[0m",
      "\u001b[1;31mNameError\u001b[0m                                 Traceback (most recent call last)",
      "\u001b[1;32md:\\2nd Year\\4th Semester\\Data Analytics - 19AD402\\DA Mini Project\\Sound Analysis In Health Care\\CNN.ipynb Cell 2'\u001b[0m in \u001b[0;36m<cell line: 1>\u001b[1;34m()\u001b[0m\n\u001b[1;32m----> <a href='vscode-notebook-cell:/d%3A/2nd%20Year/4th%20Semester/Data%20Analytics%20-%2019AD402/DA%20Mini%20Project/Sound%20Analysis%20In%20Health%20Care/CNN.ipynb#ch0000002?line=0'>1</a>\u001b[0m img \u001b[39m=\u001b[39m image\u001b[39m.\u001b[39mload_img(\u001b[39m\"\u001b[39m\u001b[39mSpectrogram Images\u001b[39m\u001b[39m\\\\\u001b[39;00m\u001b[39mTrain\u001b[39m\u001b[39m\\\\\u001b[39;00m\u001b[39mMurmur1.png\u001b[39m\u001b[39m\"\u001b[39m)\n\u001b[0;32m      <a href='vscode-notebook-cell:/d%3A/2nd%20Year/4th%20Semester/Data%20Analytics%20-%2019AD402/DA%20Mini%20Project/Sound%20Analysis%20In%20Health%20Care/CNN.ipynb#ch0000002?line=1'>2</a>\u001b[0m plt\u001b[39m.\u001b[39mimshow(img)\n",
      "\u001b[1;31mNameError\u001b[0m: name 'image' is not defined"
     ]
    }
   ],
   "source": [
    "img = image.load_img(\"Spectrogram Images\\\\Train\\\\Murmur1.png\")\n",
    "plt.imshow(img)"
   ]
  },
  {
   "cell_type": "code",
   "execution_count": null,
   "metadata": {},
   "outputs": [
    {
     "ename": "NameError",
     "evalue": "name 'cv2' is not defined",
     "output_type": "error",
     "traceback": [
      "\u001b[1;31m---------------------------------------------------------------------------\u001b[0m",
      "\u001b[1;31mNameError\u001b[0m                                 Traceback (most recent call last)",
      "\u001b[1;32md:\\2nd Year\\4th Semester\\Data Analytics - 19AD402\\DA Mini Project\\Sound Analysis In Health Care\\CNN.ipynb Cell 3'\u001b[0m in \u001b[0;36m<cell line: 1>\u001b[1;34m()\u001b[0m\n\u001b[1;32m----> <a href='vscode-notebook-cell:/d%3A/2nd%20Year/4th%20Semester/Data%20Analytics%20-%2019AD402/DA%20Mini%20Project/Sound%20Analysis%20In%20Health%20Care/CNN.ipynb#ch0000003?line=0'>1</a>\u001b[0m cv2\u001b[39m.\u001b[39mimread(\u001b[39m\"\u001b[39m\u001b[39mSpectrogram Images\u001b[39m\u001b[39m\\\\\u001b[39;00m\u001b[39mTrain\u001b[39m\u001b[39m\\\\\u001b[39;00m\u001b[39mMurmur1.png\u001b[39m\u001b[39m\"\u001b[39m)\u001b[39m.\u001b[39mshape\n",
      "\u001b[1;31mNameError\u001b[0m: name 'cv2' is not defined"
     ]
    }
   ],
   "source": [
    "cv2.imread(\"Spectrogram Images\\\\Train\\\\Murmur1.png\").shape"
   ]
  },
  {
   "cell_type": "code",
   "execution_count": null,
   "metadata": {},
   "outputs": [],
   "source": [
    "train =ImageDataGenerator(rescale=1/255)\n",
    "validation = ImageDataGenerator(rescale=1/255)"
   ]
  },
  {
   "cell_type": "code",
   "execution_count": null,
   "metadata": {},
   "outputs": [],
   "source": [
    "train_dataset = train.flow_from_directory('Spectrogram Images/Train',target_size=(200,200),batch_size=3,class_mode='binary')\n",
    "validation_dataset = train.flow_from_directory('Spectrogram Images/Validation',target_size=(200,200),batch_size=3,class_mode='binary')"
   ]
  },
  {
   "cell_type": "code",
   "execution_count": null,
   "metadata": {},
   "outputs": [],
   "source": [
    "model = tf.keras.models.Sequential([ tf.keras.layers.Conv2D(16,(3,3),activation = 'relu',input_shape =(200,200,3)),tf.keras.layers.MaxPool2D(2,2),tf.keras.layers.Conv2D(32,(3,3),activation = 'relu'),tf.keras.MaxPool2D(2,2),tf.keras.layers.Conv2D(64,(3,3),activation = 'relu'),tf.keras.layers.MaxPool2D(2,2),tf.keras.layers.Flatten(),tf.keras.layers.Dense(512,activation = 'relu'),tf.keras.layers.Dense(1,activation = 'sigmoid')])"
   ]
  },
  {
   "cell_type": "code",
   "execution_count": null,
   "metadata": {},
   "outputs": [],
   "source": [
    "model.compile(loss = 'binary_crossentropy',optimizer = RMSprop(lr = 0.01),metrics = ['accuracy'])"
   ]
  },
  {
   "cell_type": "code",
   "execution_count": null,
   "metadata": {},
   "outputs": [
    {
     "ename": "NameError",
     "evalue": "name 'model' is not defined",
     "output_type": "error",
     "traceback": [
      "\u001b[1;31m---------------------------------------------------------------------------\u001b[0m",
      "\u001b[1;31mNameError\u001b[0m                                 Traceback (most recent call last)",
      "\u001b[1;32md:\\2nd Year\\4th Semester\\Data Analytics - 19AD402\\DA Mini Project\\Sound Analysis In Health Care\\CNN.ipynb Cell 8'\u001b[0m in \u001b[0;36m<cell line: 1>\u001b[1;34m()\u001b[0m\n\u001b[1;32m----> <a href='vscode-notebook-cell:/d%3A/2nd%20Year/4th%20Semester/Data%20Analytics%20-%2019AD402/DA%20Mini%20Project/Sound%20Analysis%20In%20Health%20Care/CNN.ipynb#ch0000008?line=0'>1</a>\u001b[0m model_fit \u001b[39m=\u001b[39m model\u001b[39m.\u001b[39mfit(train_dataset,step_per_epoch \u001b[39m=\u001b[39m \u001b[39m3\u001b[39m,epochs \u001b[39m=\u001b[39m\u001b[39m10\u001b[39m,validation_data \u001b[39m=\u001b[39m validation_dataset)\n",
      "\u001b[1;31mNameError\u001b[0m: name 'model' is not defined"
     ]
    }
   ],
   "source": [
    "model_fit = model.fit(train_dataset,step_per_epoch = 3,epochs =10,validation_data = validation_dataset)"
   ]
  },
  {
   "cell_type": "code",
   "execution_count": null,
   "metadata": {},
   "outputs": [
    {
     "ename": "NameError",
     "evalue": "name 'validation_dataset' is not defined",
     "output_type": "error",
     "traceback": [
      "\u001b[1;31m---------------------------------------------------------------------------\u001b[0m",
      "\u001b[1;31mNameError\u001b[0m                                 Traceback (most recent call last)",
      "\u001b[1;32md:\\2nd Year\\4th Semester\\Data Analytics - 19AD402\\DA Mini Project\\Sound Analysis In Health Care\\CNN.ipynb Cell 9'\u001b[0m in \u001b[0;36m<cell line: 1>\u001b[1;34m()\u001b[0m\n\u001b[1;32m----> <a href='vscode-notebook-cell:/d%3A/2nd%20Year/4th%20Semester/Data%20Analytics%20-%2019AD402/DA%20Mini%20Project/Sound%20Analysis%20In%20Health%20Care/CNN.ipynb#ch0000011?line=0'>1</a>\u001b[0m validation_dataset\u001b[39m.\u001b[39mclass_indices\n",
      "\u001b[1;31mNameError\u001b[0m: name 'validation_dataset' is not defined"
     ]
    }
   ],
   "source": [
    "validation_dataset.class_indices"
   ]
  },
  {
   "cell_type": "code",
   "execution_count": null,
   "metadata": {},
   "outputs": [],
   "source": [
    "dir_path = 'Spectrogram Images/Test'\n",
    "\n",
    "for i in os.listdir(dir_path):\n",
    "    img = image.load_img(dir_path+'//'+i,target_size(200,200))\n",
    "    plt.show(img)\n",
    "    plt.show()\n",
    "\n",
    "    X = image.img_to_array(img)\n",
    "    X = np.expand_dims(X,axis=0)\n",
    "    images = np.vstack([X])\n",
    "    val = model.predict(images)\n",
    "    if val == 0:\n",
    "        print(\"Normal Report\")\n",
    "    else:\n",
    "        print(\"Murmur Report\")"
   ]
  }
 ],
 "metadata": {
  "interpreter": {
   "hash": "be8021b1553052a580027274ec75985a556bb7610fbe736ec2bc57a877743cb3"
  },
  "kernelspec": {
   "display_name": "Python 3.9.6 64-bit",
   "language": "python",
   "name": "python3"
  },
  "language_info": {
   "codemirror_mode": {
    "name": "ipython",
    "version": 3
   },
   "file_extension": ".py",
   "mimetype": "text/x-python",
   "name": "python",
   "nbconvert_exporter": "python",
   "pygments_lexer": "ipython3",
   "version": "3.9.6"
  },
  "orig_nbformat": 4
 },
 "nbformat": 4,
 "nbformat_minor": 2
}
